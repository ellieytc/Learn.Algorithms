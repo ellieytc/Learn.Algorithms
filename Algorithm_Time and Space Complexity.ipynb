{
 "cells": [
  {
   "cell_type": "markdown",
   "metadata": {},
   "source": [
    "## 時間複雜度 Time Complexity\n",
    "\n",
    "`執行演算法需要的花費的時間 (時間複雜度Big-O)`\n",
    "\n",
    "**電腦執行演算法，需要花多少時間? 怎麼計算程式執行的時間?** 計算演算法的 `執行次數`\n",
    "\n",
    "1. 假設騎腳踏車每2分鐘可以騎1公里，騎10公里需要 2 * 10 = 20 分鐘。用 `T(n) = 2n` 表示，簡化係數的時間複雜度為 `T(n) = O(1)`。\n",
    "\n",
    "\n",
    "2. 假設有16公里的路段，每3分鐘可以騎一半，也就是第1個3分鐘可以騎8公里、第2個3分鐘可以騎4公里...。騎最後的1公里需要 3 * log(2)16 = 12分鐘。用 `T(n) = 3logn` 表示，簡化係數的時間複雜度為 `T(n) = O(log n)`。\n",
    "\n",
    "\n",
    "3. 假設騎第1公里需要1分鐘、第2公里需要2分鐘、第3公里需要3分鐘..，每1公里所需時間比前1公里多1分鐘。騎最後10公里需要 1+2+3+...+10 = 55。相當於1+2+...+(n-1)+n，用 `T(n) = 0.5n ** 2 + 0.5n` 表示，簡化係數的時間複雜度為 `T(n) = O(n ** 2)`。\n",
    "\n",
    "\n",
    "4. 假設每2分鐘可以騎1公里，喝一杯飲料是2分鐘。假設距離是10公里，請問喝一杯飲料需要多少時間? (與距離無關) 2分鐘。用 `T(n) = 2` 表示，簡化係數的時間複雜度為 `T(n) = O(1)`。\n",
    "\n",
    "\n",
    "**當 n值夠大時，相對時間的關係:** `O(1)` < `O(log n)` < `O(n)` < `O(n ** 2)` --> 效率越差 "
   ]
  },
  {
   "cell_type": "code",
   "execution_count": 11,
   "metadata": {},
   "outputs": [
    {
     "data": {
      "image/png": "[encoded data removed]",
      "text/plain": [
       "<Figure size 432x288 with 1 Axes>"
      ]
     },
     "metadata": {
      "needs_background": "light"
     },
     "output_type": "display_data"
    }
   ],
   "source": [
    "import matplotlib.pyplot as plt\n",
    "import numpy as np\n",
    "\n",
    "xpt = np.linspace(1, 10, 10) #建立含10個元素的陣列\n",
    "ypt1 = xpt / xpt             #時間複雜度 = O(1)\n",
    "ypt2 = np.log2(xpt)          #時間複雜度 = O(log n)\n",
    "ypt3 = xpt                   #時間複雜度 = O(n)\n",
    "ypt4 = xpt * np.log2(xpt)    #時間複雜度 = O(nlog n)\n",
    "ypt5 = xpt * xpt             #時間複雜度 = O(n*n)\n",
    "\n",
    "plt.plot(xpt, ypt1, '-o', label = 'o(1)')\n",
    "plt.plot(xpt, ypt2, '-o', label = 'o(log n)')\n",
    "plt.plot(xpt, ypt3, '-o', label = 'o(n)')\n",
    "plt.plot(xpt, ypt4, '-o', label = 'o(nlogn)')\n",
    "plt.plot(xpt, ypt5, '-o', label = 'o(n*n)')\n",
    "plt.title('Time Complexity')\n",
    "plt.xlabel('n')\n",
    "plt.ylabel('T(n)')\n",
    "plt.legend(loc='best')\n",
    "plt.show()"
   ]
  },
  {
   "cell_type": "markdown",
   "metadata": {},
   "source": [
    "## 空間複雜度 Space Complexity\n",
    "\n",
    "####  `執行演算法需要的花費的記憶體空間`"
   ]
  },
  {
   "cell_type": "markdown",
   "metadata": {},
   "source": [
    "### Example 1"
   ]
  },
  {
   "cell_type": "code",
   "execution_count": 14,
   "metadata": {},
   "outputs": [],
   "source": [
    "def forLoop(N):\n",
    "    sum = 0\n",
    "    for i in range(N):\n",
    "        sum += i * i\n",
    "    return sum"
   ]
  },
  {
   "cell_type": "markdown",
   "metadata": {},
   "source": [
    "range從 0 ~ N-1\n",
    "\n",
    "i = 0 * 0 + 1 * 1 + (N-1) * (N-1)\n",
    "\n",
    "共做了 N 次加法、 N 次乘法，所花的空間只有sum (常數項)\n",
    "\n",
    "**Time Complexity:** O(n)\n",
    "\n",
    "**Space Complexity:** O(1)\n"
   ]
  },
  {
   "cell_type": "markdown",
   "metadata": {},
   "source": [
    "### Example 2"
   ]
  },
  {
   "cell_type": "code",
   "execution_count": 16,
   "metadata": {},
   "outputs": [],
   "source": [
    "def forLoop(N):\n",
    "    sum = 0\n",
    "    for i in range(N):\n",
    "        if i > 5:\n",
    "            break\n",
    "        else:\n",
    "            sum += i * i\n",
    "    return sum"
   ]
  },
  {
   "cell_type": "markdown",
   "metadata": {},
   "source": [
    "0 * 0 + 1 * 1 + ...+ 5 * 5\n",
    "\n",
    "做了6次，到 i = 6 就break。所花的空間只有sum。\n",
    "\n",
    "**Time Complexity:** O(1)\n",
    "\n",
    "**Space Complexity:** O(1)"
   ]
  },
  {
   "cell_type": "markdown",
   "metadata": {},
   "source": [
    "### Example 3"
   ]
  },
  {
   "cell_type": "code",
   "execution_count": 18,
   "metadata": {},
   "outputs": [],
   "source": [
    "def nestedForLoop(N):\n",
    "    sum = 0\n",
    "    for i in range(N):\n",
    "        for j in range(i, N):\n",
    "            sum += i * j\n",
    "    return sum"
   ]
  },
  {
   "cell_type": "markdown",
   "metadata": {},
   "source": [
    "i = 0 時，j 從 0 ~ (N-1)，共做了N次加法、N次乘法\n",
    "\n",
    "i = 1 時，j 從 1 ~ (N-1)，共做了(N-1)次加法、(N-1)次乘法\n",
    "\n",
    "...\n",
    "\n",
    "i = (N-1) 時，j = (N-1)，共做了1次加法、1次乘法\n",
    "\n",
    "sum = N + (N-1) + (N-2) +...+ 1\n",
    "\n",
    "**Time Complexity:** O(N ** 2)\n",
    "\n",
    "**Space Complexity:** O(1)\n"
   ]
  }
 ],
 "metadata": {
  "kernelspec": {
   "display_name": "Python 3",
   "language": "python",
   "name": "python3"
  },
  "language_info": {
   "codemirror_mode": {
    "name": "ipython",
    "version": 3
   },
   "file_extension": ".py",
   "mimetype": "text/x-python",
   "name": "python",
   "nbconvert_exporter": "python",
   "pygments_lexer": "ipython3",
   "version": "3.7.7"
  }
 },
 "nbformat": 4,
 "nbformat_minor": 4
}
